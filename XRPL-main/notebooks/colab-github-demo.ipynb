{
  "cells": [
    {
      "cell_type": "markdown",
      "metadata": {
        "id": "view-in-github",
        "colab_type": "text"
      },
      "source": [
        "<a href=\"https://colab.research.google.com/github/rlagusdn04/XRPL/blob/main/notebooks/colab-github-demo.ipynb\" target=\"_parent\"><img src=\"https://colab.research.google.com/assets/colab-badge.svg\" alt=\"Open In Colab\"/></a>"
      ]
    },
    {
      "cell_type": "markdown",
      "metadata": {
        "id": "-pVhOfzLx9us"
      },
      "source": [
        "# Using Google Colab with GitHub\n",
        "\n"
      ]
    },
    {
      "cell_type": "markdown",
      "metadata": {
        "id": "wKJ4bd5rt1wy"
      },
      "source": [
        "\n",
        "[Google Colaboratory](http://colab.research.google.com) is designed to integrate cleanly with GitHub, allowing both loading notebooks from github and saving notebooks to github."
      ]
    },
    {
      "cell_type": "markdown",
      "metadata": {
        "id": "K-NVg7RjyeTk"
      },
      "source": [
        "## Loading Public Notebooks Directly from GitHub\n",
        "\n",
        "Colab can load public github notebooks directly, with no required authorization step.\n",
        "\n",
        "For example, consider the notebook at this address: https://github.com/googlecolab/colabtools/blob/main/notebooks/colab-github-demo.ipynb.\n",
        "\n",
        "The direct colab link to this notebook is: https://colab.research.google.com/github/googlecolab/colabtools/blob/main/notebooks/colab-github-demo.ipynb.\n",
        "\n",
        "To generate such links in one click, you can use the [Open in Colab](https://chrome.google.com/webstore/detail/open-in-colab/iogfkhleblhcpcekbiedikdehleodpjo) Chrome extension."
      ]
    },
    {
      "cell_type": "markdown",
      "metadata": {
        "id": "WzIRIt9d2huC"
      },
      "source": [
        "## Browsing GitHub Repositories from Colab\n",
        "\n",
        "Colab also supports special URLs that link directly to a GitHub browser for any user/organization, repository, or branch. For example:\n",
        "\n",
        "- http://colab.research.google.com/github will give you a general github browser, where you can search for any github organization or username.\n",
        "- http://colab.research.google.com/github/googlecolab/ will open the repository browser for the ``googlecolab`` organization. Replace ``googlecolab`` with any other github org or user to see their repositories.\n",
        "- http://colab.research.google.com/github/googlecolab/colabtools/ will let you browse the main branch of the ``colabtools`` repository within the ``googlecolab`` organization. Substitute any user/org and repository to see its contents.\n",
        "- http://colab.research.google.com/github/googlecolab/colabtools/blob/main will let you browse ``main`` branch of the ``colabtools`` repository within the ``googlecolab`` organization. (don't forget the ``blob`` here!) You can specify any valid branch for any valid repository."
      ]
    },
    {
      "cell_type": "markdown",
      "metadata": {
        "id": "Rmai0dD30XzL"
      },
      "source": [
        "## Loading Private Notebooks\n",
        "\n",
        "Loading a notebook from a private GitHub repository is possible, but requires an additional step to allow Colab to access your files.\n",
        "Do the following:\n",
        "\n",
        "1. Navigate to http://colab.research.google.com/github.\n",
        "2. Click the \"Include Private Repos\" checkbox.\n",
        "3. In the popup window, sign-in to your Github account and authorize Colab to read the private files.\n",
        "4. Your private repositories and notebooks will now be available via the github navigation pane."
      ]
    },
    {
      "cell_type": "markdown",
      "metadata": {
        "id": "8J3NBxtZpPcK"
      },
      "source": [
        "## Saving Notebooks To GitHub or Drive\n",
        "\n",
        "Any time you open a GitHub hosted notebook in Colab, it opens a new editable view of the notebook. You can run and modify the notebook without worrying about overwriting the source.\n",
        "\n",
        "If you would like to save your changes from within Colab, you can use the File menu to save the modified notebook either to Google Drive or back to GitHub. Choose **File→Save a copy in Drive** or **File→Save a copy to GitHub** and follow the resulting prompts. To save a Colab notebook to GitHub requires giving Colab permission to push the commit to your repository."
      ]
    },
    {
      "cell_type": "markdown",
      "metadata": {
        "id": "8QAWNjizy_3O"
      },
      "source": [
        "## Open In Colab Badge\n",
        "\n",
        "Anybody can open a copy of any github-hosted notebook within Colab. To make it easier to give people access to live views of GitHub-hosted notebooks,\n",
        "colab provides a [shields.io](http://shields.io/)-style badge, which appears as follows:\n",
        "\n",
        "[![Open In Colab](https://colab.research.google.com/assets/colab-badge.svg)](https://colab.research.google.com/github/googlecolab/colabtools/blob/main/notebooks/colab-github-demo.ipynb)\n",
        "\n",
        "The markdown for the above badge is the following:\n",
        "\n",
        "```markdown\n",
        "[![Open In Colab](https://colab.research.google.com/assets/colab-badge.svg)](https://colab.research.google.com/github/googlecolab/colabtools/blob/main/notebooks/colab-github-demo.ipynb)\n",
        "```\n",
        "\n",
        "The HTML equivalent is:\n",
        "\n",
        "```HTML\n",
        "<a href=\"https://colab.research.google.com/github/googlecolab/colabtools/blob/main/notebooks/colab-github-demo.ipynb\">\n",
        "  <img src=\"https://colab.research.google.com/assets/colab-badge.svg\" alt=\"Open In Colab\"/>\n",
        "</a>\n",
        "```\n",
        "\n",
        "Remember to replace the notebook URL in this template with the notebook you want to link to."
      ]
    },
    {
      "cell_type": "code",
      "execution_count": null,
      "metadata": {
        "colab": {
          "base_uri": "https://localhost:8080/"
        },
        "id": "3VQqVi-3ScBC",
        "outputId": "2366d6f1-0b5c-4b35-b785-e2fa8343b9de"
      },
      "outputs": [
        {
          "output_type": "stream",
          "name": "stdout",
          "text": [
            "/content\n",
            "Mounted at /content/drive\n"
          ]
        }
      ],
      "source": [
        "#!git clone https://github.com/rlagusdn04/XRPL\n",
        "\n",
        "import os\n",
        "os.chdir(\"/content\")\n",
        "!pwd\n",
        "\n",
        "from google.colab import drive\n",
        "drive.mount('/content/drive')\n",
        "\n"
      ]
    },
    {
      "cell_type": "code",
      "source": [
        "# nest_asyncio와 xrpl-py 설치\n",
        "!pip install nest_asyncio xrpl-py\n",
        "\n",
        "# Colab 환경의 asyncio event loop 문제 해결\n",
        "#AsyncIO: 비동기 프로그래밍을 위한 모듈, CPU작업과 IO작업을 병렬 처리\n",
        "import nest_asyncio\n",
        "nest_asyncio.apply() # 병렬 처리 시 중첩된 event loop 사용을 허용\n",
        "\n",
        "# 모듈 임포트\n",
        "from xrpl.clients import JsonRpcClient\n",
        "from xrpl.wallet import generate_faucet_wallet\n",
        "from xrpl.account import get_balance\n",
        "from xrpl.models.requests import ServerInfo\n",
        "from xrpl.models.transactions import NFTokenMint\n",
        "from xrpl.transaction import submit_and_wait\n",
        "import xrpl.utils\n",
        "\n",
        "def register_nft_with_root_network(nft_details: dict):\n",
        "    \"\"\"\n",
        "    NFT를 가상 API(The Root Network)에 등록하는 함수.\n",
        "    실제 API 요청은 해당 문서를 참조하여 구현해야 함.\n",
        "    \"\"\"\n",
        "    print(\"NFT가 The Root Network에 등록되었습니다:\", nft_details)\n",
        "\n",
        "def main():\n",
        "    # XRPL 테스트넷에 연결\n",
        "    testnet_url = \"https://s.altnet.rippletest.net:51234/\"\n",
        "    client = JsonRpcClient(testnet_url)\n",
        "\n",
        "    # 서버 정보 확인\n",
        "    server_info = client.request(ServerInfo())\n",
        "    print(\"서버 정보:\", server_info.result)\n",
        "\n",
        "    # 새로운 테스트넷 지갑 생성 (Faucet 이용)\n",
        "    wallet = generate_faucet_wallet(client)\n",
        "    print(f\"지갑 주소: {wallet.classic_address}\")\n",
        "    print(f\"비밀키: {wallet.seed}\")\n",
        "\n",
        "\n",
        "\n",
        "    # 잔액 확인\n",
        "    balance = get_balance(wallet.classic_address, client)\n",
        "    print(f\"잔액: {balance} XRP\")\n",
        "\n",
        "\n",
        "\n",
        "    # NFT 민팅 트랜잭션 생성 (Tokenization)\n",
        "    nft_mint_tx = NFTokenMint(\n",
        "        account=wallet.classic_address,\n",
        "        nftoken_taxon=0,  # NFT 분류 (0: 기본 분류)\n",
        "        uri=xrpl.utils.str_to_hex(\"https://example.com/nft/metadata.json\"),\n",
        "        flags=8  # 8: Transferable(양도가능) NFT 설정\n",
        "    )\n",
        "    print(\"NFT 민팅 중...\")\n",
        "    nft_response = submit_and_wait(nft_mint_tx, client, wallet)\n",
        "    print(\"NFT 민팅 결과:\", nft_response.result)\n",
        "\n",
        "    # NFT 민팅 결과가 성공적이면, The Root Network에 등록\n",
        "    if \"hash\" in nft_response.result:\n",
        "        nft_hash = nft_response.result[\"hash\"]\n",
        "        nft_details = {\n",
        "            \"nft_hash\": nft_hash,\n",
        "            \"metadata_uri\": \"https://example.com/nft/metadata.json\",\n",
        "            \"owner\": wallet.classic_address,\n",
        "        }\n",
        "        register_nft_with_root_network(nft_details)\n",
        "    else:\n",
        "        print(\"NFT 등록 실패\")\n",
        "\n",
        "if __name__ == \"__main__\":\n",
        "    main()\n",
        "\n"
      ],
      "metadata": {
        "id": "NHFybTj2pDH4",
        "colab": {
          "base_uri": "https://localhost:8080/"
        },
        "outputId": "534faa88-22b9-4f71-f022-89685efe2e66"
      },
      "execution_count": null,
      "outputs": [
        {
          "output_type": "stream",
          "name": "stdout",
          "text": [
            "Requirement already satisfied: nest_asyncio in /usr/local/lib/python3.11/dist-packages (1.6.0)\n",
            "Requirement already satisfied: xrpl-py in /usr/local/lib/python3.11/dist-packages (4.1.0)\n",
            "Requirement already satisfied: Deprecated<2.0.0,>=1.2.13 in /usr/local/lib/python3.11/dist-packages (from xrpl-py) (1.2.18)\n",
            "Requirement already satisfied: ECPy<2.0.0,>=1.2.5 in /usr/local/lib/python3.11/dist-packages (from xrpl-py) (1.2.5)\n",
            "Requirement already satisfied: base58<3.0.0,>=2.1.0 in /usr/local/lib/python3.11/dist-packages (from xrpl-py) (2.1.1)\n",
            "Requirement already satisfied: httpx<0.29.0,>=0.18.1 in /usr/local/lib/python3.11/dist-packages (from xrpl-py) (0.28.1)\n",
            "Requirement already satisfied: pycryptodome<4.0.0,>=3.16.0 in /usr/local/lib/python3.11/dist-packages (from xrpl-py) (3.21.0)\n",
            "Requirement already satisfied: types-Deprecated<2.0.0,>=1.2.9 in /usr/local/lib/python3.11/dist-packages (from xrpl-py) (1.2.15.20250304)\n",
            "Requirement already satisfied: typing-extensions<5.0.0,>=4.2.0 in /usr/local/lib/python3.11/dist-packages (from xrpl-py) (4.12.2)\n",
            "Requirement already satisfied: websockets>=11 in /usr/local/lib/python3.11/dist-packages (from xrpl-py) (14.2)\n",
            "Requirement already satisfied: wrapt<2,>=1.10 in /usr/local/lib/python3.11/dist-packages (from Deprecated<2.0.0,>=1.2.13->xrpl-py) (1.17.2)\n",
            "Requirement already satisfied: anyio in /usr/local/lib/python3.11/dist-packages (from httpx<0.29.0,>=0.18.1->xrpl-py) (3.7.1)\n",
            "Requirement already satisfied: certifi in /usr/local/lib/python3.11/dist-packages (from httpx<0.29.0,>=0.18.1->xrpl-py) (2025.1.31)\n",
            "Requirement already satisfied: httpcore==1.* in /usr/local/lib/python3.11/dist-packages (from httpx<0.29.0,>=0.18.1->xrpl-py) (1.0.7)\n",
            "Requirement already satisfied: idna in /usr/local/lib/python3.11/dist-packages (from httpx<0.29.0,>=0.18.1->xrpl-py) (3.10)\n",
            "Requirement already satisfied: h11<0.15,>=0.13 in /usr/local/lib/python3.11/dist-packages (from httpcore==1.*->httpx<0.29.0,>=0.18.1->xrpl-py) (0.14.0)\n",
            "Requirement already satisfied: sniffio>=1.1 in /usr/local/lib/python3.11/dist-packages (from anyio->httpx<0.29.0,>=0.18.1->xrpl-py) (1.3.1)\n",
            "서버 정보: {'info': {'build_version': '2.4.0', 'complete_ledgers': '6-5531244', 'hostid': 'TUN', 'initial_sync_duration_us': '33813009', 'io_latency_ms': 1, 'jq_trans_overflow': '0', 'last_close': {'converge_time_s': 2.004, 'proposers': 6}, 'load_factor': 1, 'network_id': 1, 'peer_disconnects': '39392', 'peer_disconnects_resources': '527', 'peers': 101, 'ports': [{'port': '2459', 'protocol': ['peer']}, {'port': '51233', 'protocol': ['ws2', 'wss2']}, {'port': '50051', 'protocol': ['grpc']}], 'pubkey_node': 'n9KEk3TLMuoiTTLgrWWmfYm99hHFBZTXWzoyrHr3FbJWmRCXm96v', 'server_state': 'full', 'server_state_duration_us': '375663267875', 'state_accounting': {'connected': {'duration_us': '12003799', 'transitions': '1'}, 'disconnected': {'duration_us': '16803301', 'transitions': '1'}, 'full': {'duration_us': '375663267875', 'transitions': '1'}, 'syncing': {'duration_us': '5005871', 'transitions': '1'}, 'tracking': {'duration_us': '36', 'transitions': '1'}}, 'time': '2025-Mar-11 08:01:17.311130 UTC', 'uptime': 375697, 'validated_ledger': {'age': 3, 'base_fee_xrp': 1e-05, 'hash': '1A7BC9B59085665D278C0B3DAE70AD437391AEE68D84826455D3E23867CC76BF', 'reserve_base_xrp': 1, 'reserve_inc_xrp': 0.2, 'seq': 5531244}, 'validation_quorum': 5}}\n",
            "지갑 주소: rnL63sxFPPMUjMB8CgzDwGm9XvTbnwtfcb\n",
            "비밀키: sEdT3JCwWuLPdmsoyT5Lm8AgBWGGe1c\n",
            "잔액: 100000000 XRP\n",
            "NFT 민팅 중...\n",
            "NFT 민팅 결과: {'close_time_iso': '2025-03-11T08:01:32Z', 'ctid': 'C054667200000001', 'hash': '921A1774673E2404F9DF44EB91014E81C198685EFA271134D0A7724F7D4A9818', 'ledger_hash': '7BBBE334FB404C2052355B425E68BA24AD72DD42C84FA1F6489D900FF1D59172', 'ledger_index': 5531250, 'meta': {'AffectedNodes': [{'CreatedNode': {'LedgerEntryType': 'NFTokenPage', 'LedgerIndex': '2F99E5F10BE138E0764D1A83D8EBB04EC054F4B8FFFFFFFFFFFFFFFFFFFFFFFF', 'NewFields': {'NFTokens': [{'NFToken': {'NFTokenID': '000800002F99E5F10BE138E0764D1A83D8EBB04EC054F4B813400F0A0054666F', 'URI': '68747470733A2F2F6578616D706C652E636F6D2F6E66742F6D657461646174612E6A736F6E'}}]}}}, {'ModifiedNode': {'FinalFields': {'Account': 'rnL63sxFPPMUjMB8CgzDwGm9XvTbnwtfcb', 'Balance': '99999990', 'FirstNFTokenSequence': 5531247, 'Flags': 0, 'MintedNFTokens': 1, 'OwnerCount': 1, 'Sequence': 5531248}, 'LedgerEntryType': 'AccountRoot', 'LedgerIndex': '3140860F8D5F144780F42BA3C8B4A3A1088323BBC5409D060FCF6C3F7A09E60C', 'PreviousFields': {'Balance': '100000000', 'OwnerCount': 0, 'Sequence': 5531247}, 'PreviousTxnID': 'F269522F7A52483F49E2A5CF5D1D1C22DB8E34317AEE08198A9BEEA5098D2742', 'PreviousTxnLgrSeq': 5531247}}], 'TransactionIndex': 0, 'TransactionResult': 'tesSUCCESS', 'nftoken_id': '000800002F99E5F10BE138E0764D1A83D8EBB04EC054F4B813400F0A0054666F'}, 'tx_json': {'Account': 'rnL63sxFPPMUjMB8CgzDwGm9XvTbnwtfcb', 'Fee': '10', 'Flags': 8, 'LastLedgerSequence': 5531268, 'NFTokenTaxon': 0, 'Sequence': 5531247, 'SigningPubKey': 'ED1532AB84B201B70E8B29D36B6D276A1532F77B037BE265B1186E1CAD0CF5B27F', 'TransactionType': 'NFTokenMint', 'TxnSignature': 'B942D61838C079959DE2176E03E459F7B37CF5F7F3ABBFE6A6AF8C686B0FCB31572438D7751E66D8C8EA454014CF44FEAF49E43A6AD66CAB517143C6447B1C0E', 'URI': '68747470733A2F2F6578616D706C652E636F6D2F6E66742F6D657461646174612E6A736F6E', 'date': 794995292, 'ledger_index': 5531250}, 'validated': True}\n",
            "NFT가 The Root Network에 등록되었습니다: {'nft_hash': '921A1774673E2404F9DF44EB91014E81C198685EFA271134D0A7724F7D4A9818', 'metadata_uri': 'https://example.com/nft/metadata.json', 'owner': 'rnL63sxFPPMUjMB8CgzDwGm9XvTbnwtfcb'}\n"
          ]
        }
      ]
    },
    {
      "cell_type": "code",
      "source": [
        "import asyncio\n",
        "from xrpl.clients import JsonRpcClient, AsyncJsonRpcClient\n",
        "from xrpl.wallet import Wallet, generate_faucet_wallet\n",
        "from xrpl.core import keypairs, addresscodec\n",
        "from xrpl.ledger import get_fee\n",
        "from xrpl.models.transactions import Payment\n",
        "from xrpl.transaction import submit_and_wait, autofill_and_sign\n",
        "from xrpl.asyncio.transaction import submit_and_wait as async_submit_and_wait\n",
        "from xrpl.asyncio.ledger import get_latest_validated_ledger_sequence\n",
        "from xrpl.asyncio.account import get_next_valid_seq_number\n",
        "\n",
        "#2024-03-15\n",
        "\n",
        "class XRPLExample:\n",
        "    \"\"\"\n",
        "    XRPL 테스트넷 연결, 지갑 생성, 트랜잭션 처리, 주소 변환 기능을 제공하는 클래스입니다.\n",
        "    \"\"\"\n",
        "    def __init__(self, json_rpc_url):\n",
        "        # 동기 및 비동기 클라이언트 초기화\n",
        "        self.json_rpc_url = json_rpc_url\n",
        "        self.client = JsonRpcClient(json_rpc_url)\n",
        "        self.async_client = AsyncJsonRpcClient(json_rpc_url)\n",
        "\n",
        "    def create_wallet_from_seed(self, seed):\n",
        "        \"\"\"\n",
        "        기존 시드(seed)를 이용해 지갑(Wallet)을 생성합니다.\n",
        "        \"\"\"\n",
        "        try:\n",
        "            wallet = Wallet.from_seed(seed)\n",
        "            print(\"Seed로 생성된 지갑 정보:\")\n",
        "            print(wallet)\n",
        "            return wallet\n",
        "        except Exception as e:\n",
        "            print(\"Seed로 지갑 생성 실패:\", e)\n",
        "            return None\n",
        "\n",
        "    def generate_faucet_wallet(self):\n",
        "        \"\"\"\n",
        "        Faucet을 이용해 테스트 지갑을 생성합니다.\n",
        "        \"\"\"\n",
        "        try:\n",
        "            test_wallet = generate_faucet_wallet(self.client)\n",
        "            print(\"Faucet으로 생성된 테스트 지갑의 클래식 주소:\", test_wallet.address)\n",
        "            return test_wallet\n",
        "        except Exception as e:\n",
        "            print(\"Faucet 지갑 생성 실패:\", e)\n",
        "            return None\n",
        "\n",
        "    def generate_new_keypair(self):\n",
        "        \"\"\"\n",
        "        새로운 시드를 생성하여 공개키, 비공개키와 클래식 주소를 도출합니다.\n",
        "        \"\"\"\n",
        "        try:\n",
        "            seed = keypairs.generate_seed()\n",
        "            public, private = keypairs.derive_keypair(seed)\n",
        "            classic_address = keypairs.derive_classic_address(public)\n",
        "            print(\"새로운 공개키:\", public)\n",
        "            print(\"새로운 비공개키:\", private)\n",
        "            print(\"새로운 클래식 주소:\", classic_address)\n",
        "            return {\"seed\": seed, \"public\": public, \"private\": private, \"classic_address\": classic_address}\n",
        "        except Exception as e:\n",
        "            print(\"새로운 키 쌍 생성 실패:\", e)\n",
        "            return None\n",
        "\n",
        "    def get_current_fee(self):\n",
        "        \"\"\"\n",
        "        현재 거래 수수료(fee)를 조회합니다.\n",
        "        \"\"\"\n",
        "        try:\n",
        "            fee = get_fee(self.client)\n",
        "            print(\"현재 거래 수수료 (drops):\", fee)\n",
        "            return fee\n",
        "        except Exception as e:\n",
        "            print(\"거래 수수료 조회 실패:\", e)\n",
        "            return None\n",
        "\n",
        "    def submit_payment_sync(self, test_wallet, amount, destination):\n",
        "        \"\"\"\n",
        "        동기 방식으로 Payment 트랜잭션을 생성, 서명 및 제출합니다.\n",
        "        - amount: drops 단위 (예: 2200000 drops = 2.2 XRP)\n",
        "        - destination: 수신 계정 주소\n",
        "        \"\"\"\n",
        "        try:\n",
        "            payment = Payment(\n",
        "                account=test_wallet.address,\n",
        "                amount=str(amount),\n",
        "                destination=destination\n",
        "            )\n",
        "            # 자동으로 수수료, 시퀀스, 마지막 원장 시퀀스를 채워 서명\n",
        "            payment_signed = autofill_and_sign(payment, self.client, test_wallet)\n",
        "            print(\"서명된 Payment 트랜잭션:\")\n",
        "            print(payment_signed)\n",
        "            response = submit_and_wait(payment_signed, self.client)\n",
        "            print(\"동기 방식 트랜잭션 응답:\")\n",
        "            print(response)\n",
        "            return response\n",
        "        except Exception as e:\n",
        "            print(\"동기 트랜잭션 제출 실패:\", e)\n",
        "            return None\n",
        "\n",
        "    async def submit_payment_async(self, test_wallet, amount, destination):\n",
        "        \"\"\"\n",
        "        비동기 방식으로 Payment 트랜잭션을 생성, 서명 및 제출합니다.\n",
        "        \"\"\"\n",
        "        try:\n",
        "            current_validated_ledger = await get_latest_validated_ledger_sequence(self.async_client)\n",
        "            next_seq = await get_next_valid_seq_number(test_wallet.address, self.async_client)\n",
        "            payment = Payment(\n",
        "                account=test_wallet.address,\n",
        "                amount=str(amount),\n",
        "                destination=destination,\n",
        "                last_ledger_sequence=current_validated_ledger + 20,\n",
        "                sequence=next_seq,\n",
        "                fee=\"10\"\n",
        "            )\n",
        "            response = await async_submit_and_wait(payment, self.async_client, test_wallet)\n",
        "            print(\"비동기 방식 트랜잭션 응답:\")\n",
        "            print(response)\n",
        "            return response\n",
        "        except Exception as e:\n",
        "            print(\"비동기 트랜잭션 제출 실패:\", e)\n",
        "            return None\n",
        "\n",
        "    def convert_classic_to_xaddress(self, classic_address, tag=0, is_test_network=True):\n",
        "        \"\"\"\n",
        "        클래식 주소를 X-주소로 변환합니다.\n",
        "        \"\"\"\n",
        "        try:\n",
        "            xaddress = addresscodec.classic_address_to_xaddress(\n",
        "                classic_address,\n",
        "                tag=tag,\n",
        "                is_test_network=is_test_network\n",
        "            )\n",
        "            print(\"변환된 X-주소:\", xaddress)\n",
        "            return xaddress\n",
        "        except Exception as e:\n",
        "            print(\"주소 변환 실패:\", e)\n",
        "            return None\n",
        "\n",
        "def run_xrpl_example():\n",
        "    \"\"\"\n",
        "    XRPLExample 클래스를 이용하여 전체 예제 코드를 실행합니다.\n",
        "    \"\"\"\n",
        "    # 테스트넷 JSON-RPC URL 설정\n",
        "    json_rpc_url = \"https://s.altnet.rippletest.net:51234\"\n",
        "    xrpl_example = XRPLExample(json_rpc_url)\n",
        "\n",
        "    # 1. 기존 시드로 지갑 생성 (안전한 시드를 사용해야 함)\n",
        "    sample_seed = \"s████████████████████████████\"  # 실제 환경에 맞는 시드를 입력하세요.\n",
        "    wallet_from_seed = xrpl_example.create_wallet_from_seed(sample_seed)\n",
        "\n",
        "    # 2. Faucet을 이용한 테스트 지갑 생성\n",
        "    test_wallet = xrpl_example.generate_faucet_wallet()\n",
        "    if test_wallet is None:\n",
        "        return\n",
        "\n",
        "    # 3. 새로운 시드로 키 쌍 생성 및 주소 도출\n",
        "    xrpl_example.generate_new_keypair()\n",
        "\n",
        "    # 4. 현재 거래 수수료 조회\n",
        "    xrpl_example.get_current_fee()\n",
        "\n",
        "    # 5. Payment 트랜잭션 생성, 서명 및 제출 (동기 방식)\n",
        "    destination_address = \"rPT1Sjq2YGrBMTttX4GZHjKu9dyfzbpAYe\"  # 예시 수신 주소\n",
        "    xrpl_example.submit_payment_sync(test_wallet, \"2200000\", destination_address)\n",
        "\n",
        "    # 6. Payment 트랜잭션 제출 (비동기 방식)\n",
        "    asyncio.run(xrpl_example.submit_payment_async(test_wallet, \"2200000\", destination_address))\n",
        "\n",
        "    # 7. 클래식 주소를 X-주소로 변환 (예시 주소 사용)\n",
        "    xrpl_example.convert_classic_to_xaddress(\"rMPUKmzmDWEX1tQhzQ8oGFNfAEhnWNFwz\", tag=0, is_test_network=True)\n",
        "\n",
        "if __name__ == \"__main__\":\n",
        "    run_xrpl_example()\n"
      ],
      "metadata": {
        "id": "xzC0oIBWy_u0",
        "outputId": "28e4c641-0642-4485-baab-9ba77408e6bc",
        "colab": {
          "base_uri": "https://localhost:8080/",
          "height": 781
        }
      },
      "execution_count": null,
      "outputs": [
        {
          "output_type": "stream",
          "name": "stdout",
          "text": [
            "Collecting xrpl-py\n",
            "  Downloading xrpl_py-4.1.0-py3-none-any.whl.metadata (17 kB)\n",
            "Requirement already satisfied: Deprecated<2.0.0,>=1.2.13 in /usr/local/lib/python3.11/dist-packages (from xrpl-py) (1.2.18)\n",
            "Collecting ECPy<2.0.0,>=1.2.5 (from xrpl-py)\n",
            "  Downloading ECPy-1.2.5-py3-none-any.whl.metadata (3.5 kB)\n",
            "Collecting base58<3.0.0,>=2.1.0 (from xrpl-py)\n",
            "  Downloading base58-2.1.1-py3-none-any.whl.metadata (3.1 kB)\n",
            "Requirement already satisfied: httpx<0.29.0,>=0.18.1 in /usr/local/lib/python3.11/dist-packages (from xrpl-py) (0.28.1)\n",
            "Collecting pycryptodome<4.0.0,>=3.16.0 (from xrpl-py)\n",
            "  Downloading pycryptodome-3.21.0-cp36-abi3-manylinux_2_17_x86_64.manylinux2014_x86_64.whl.metadata (3.4 kB)\n",
            "Collecting types-Deprecated<2.0.0,>=1.2.9 (from xrpl-py)\n",
            "  Downloading types_deprecated-1.2.15.20250304-py3-none-any.whl.metadata (2.0 kB)\n",
            "Requirement already satisfied: typing-extensions<5.0.0,>=4.2.0 in /usr/local/lib/python3.11/dist-packages (from xrpl-py) (4.12.2)\n",
            "Requirement already satisfied: websockets>=11 in /usr/local/lib/python3.11/dist-packages (from xrpl-py) (14.2)\n",
            "Requirement already satisfied: wrapt<2,>=1.10 in /usr/local/lib/python3.11/dist-packages (from Deprecated<2.0.0,>=1.2.13->xrpl-py) (1.17.2)\n",
            "Requirement already satisfied: anyio in /usr/local/lib/python3.11/dist-packages (from httpx<0.29.0,>=0.18.1->xrpl-py) (3.7.1)\n",
            "Requirement already satisfied: certifi in /usr/local/lib/python3.11/dist-packages (from httpx<0.29.0,>=0.18.1->xrpl-py) (2025.1.31)\n",
            "Requirement already satisfied: httpcore==1.* in /usr/local/lib/python3.11/dist-packages (from httpx<0.29.0,>=0.18.1->xrpl-py) (1.0.7)\n",
            "Requirement already satisfied: idna in /usr/local/lib/python3.11/dist-packages (from httpx<0.29.0,>=0.18.1->xrpl-py) (3.10)\n",
            "Requirement already satisfied: h11<0.15,>=0.13 in /usr/local/lib/python3.11/dist-packages (from httpcore==1.*->httpx<0.29.0,>=0.18.1->xrpl-py) (0.14.0)\n",
            "Requirement already satisfied: sniffio>=1.1 in /usr/local/lib/python3.11/dist-packages (from anyio->httpx<0.29.0,>=0.18.1->xrpl-py) (1.3.1)\n",
            "Downloading xrpl_py-4.1.0-py3-none-any.whl (272 kB)\n",
            "\u001b[2K   \u001b[90m━━━━━━━━━━━━━━━━━━━━━━━━━━━━━━━━━━━━━━━━\u001b[0m \u001b[32m272.4/272.4 kB\u001b[0m \u001b[31m6.8 MB/s\u001b[0m eta \u001b[36m0:00:00\u001b[0m\n",
            "\u001b[?25hDownloading base58-2.1.1-py3-none-any.whl (5.6 kB)\n",
            "Downloading ECPy-1.2.5-py3-none-any.whl (43 kB)\n",
            "\u001b[2K   \u001b[90m━━━━━━━━━━━━━━━━━━━━━━━━━━━━━━━━━━━━━━━━\u001b[0m \u001b[32m43.1/43.1 kB\u001b[0m \u001b[31m3.0 MB/s\u001b[0m eta \u001b[36m0:00:00\u001b[0m\n",
            "\u001b[?25hDownloading pycryptodome-3.21.0-cp36-abi3-manylinux_2_17_x86_64.manylinux2014_x86_64.whl (2.3 MB)\n",
            "\u001b[2K   \u001b[90m━━━━━━━━━━━━━━━━━━━━━━━━━━━━━━━━━━━━━━━━\u001b[0m \u001b[32m2.3/2.3 MB\u001b[0m \u001b[31m45.2 MB/s\u001b[0m eta \u001b[36m0:00:00\u001b[0m\n",
            "\u001b[?25hDownloading types_deprecated-1.2.15.20250304-py3-none-any.whl (8.6 kB)\n",
            "Installing collected packages: ECPy, types-Deprecated, pycryptodome, base58, xrpl-py\n",
            "Successfully installed ECPy-1.2.5 base58-2.1.1 pycryptodome-3.21.0 types-Deprecated-1.2.15.20250304 xrpl-py-4.1.0\n"
          ]
        },
        {
          "output_type": "error",
          "ename": "NameError",
          "evalue": "name 'seed' is not defined",
          "traceback": [
            "\u001b[0;31m---------------------------------------------------------------------------\u001b[0m",
            "\u001b[0;31mNameError\u001b[0m                                 Traceback (most recent call last)",
            "\u001b[0;32m<ipython-input-2-cdb7a98f5efd>\u001b[0m in \u001b[0;36m<cell line: 0>\u001b[0;34m()\u001b[0m\n\u001b[1;32m     22\u001b[0m \u001b[0;34m\u001b[0m\u001b[0m\n\u001b[1;32m     23\u001b[0m \u001b[0;31m# seed 변수는 미리 정의되어 있어야 합니다.\u001b[0m\u001b[0;34m\u001b[0m\u001b[0;34m\u001b[0m\u001b[0m\n\u001b[0;32m---> 24\u001b[0;31m \u001b[0mwallet_from_seed\u001b[0m \u001b[0;34m=\u001b[0m \u001b[0mxrpl\u001b[0m\u001b[0;34m.\u001b[0m\u001b[0mwallet\u001b[0m\u001b[0;34m.\u001b[0m\u001b[0mWallet\u001b[0m\u001b[0;34m.\u001b[0m\u001b[0mfrom_seed\u001b[0m\u001b[0;34m(\u001b[0m\u001b[0mseed\u001b[0m\u001b[0;34m)\u001b[0m\u001b[0;34m\u001b[0m\u001b[0;34m\u001b[0m\u001b[0m\n\u001b[0m\u001b[1;32m     25\u001b[0m \u001b[0mprint\u001b[0m\u001b[0;34m(\u001b[0m\u001b[0;34m\"Seed로 생성된 지갑 정보:\"\u001b[0m\u001b[0;34m)\u001b[0m\u001b[0;34m\u001b[0m\u001b[0;34m\u001b[0m\u001b[0m\n\u001b[1;32m     26\u001b[0m \u001b[0mprint\u001b[0m\u001b[0;34m(\u001b[0m\u001b[0mwallet_from_seed\u001b[0m\u001b[0;34m)\u001b[0m\u001b[0;34m\u001b[0m\u001b[0;34m\u001b[0m\u001b[0m\n",
            "\u001b[0;31mNameError\u001b[0m: name 'seed' is not defined"
          ]
        }
      ]
    },
    {
      "cell_type": "code",
      "source": [],
      "metadata": {
        "id": "OML2WwCvoilf"
      },
      "execution_count": null,
      "outputs": []
    }
  ],
  "metadata": {
    "colab": {
      "name": "colab-github-demo.ipynb",
      "provenance": [],
      "include_colab_link": true
    },
    "kernelspec": {
      "display_name": "Python 3",
      "name": "python3"
    }
  },
  "nbformat": 4,
  "nbformat_minor": 0
}