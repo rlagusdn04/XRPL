{
  "cells": [
    {
      "cell_type": "markdown",
      "metadata": {
        "id": "-pVhOfzLx9us"
      },
      "source": [
        "# Using Google Colab with GitHub\n",
        "\n"
      ]
    },
    {
      "cell_type": "markdown",
      "metadata": {
        "id": "wKJ4bd5rt1wy"
      },
      "source": [
        "\n",
        "[Google Colaboratory](http://colab.research.google.com) is designed to integrate cleanly with GitHub, allowing both loading notebooks from github and saving notebooks to github."
      ]
    },
    {
      "cell_type": "markdown",
      "metadata": {
        "id": "K-NVg7RjyeTk"
      },
      "source": [
        "## Loading Public Notebooks Directly from GitHub\n",
        "\n",
        "Colab can load public github notebooks directly, with no required authorization step.\n",
        "\n",
        "For example, consider the notebook at this address: https://github.com/googlecolab/colabtools/blob/main/notebooks/colab-github-demo.ipynb.\n",
        "\n",
        "The direct colab link to this notebook is: https://colab.research.google.com/github/googlecolab/colabtools/blob/main/notebooks/colab-github-demo.ipynb.\n",
        "\n",
        "To generate such links in one click, you can use the [Open in Colab](https://chrome.google.com/webstore/detail/open-in-colab/iogfkhleblhcpcekbiedikdehleodpjo) Chrome extension."
      ]
    },
    {
      "cell_type": "markdown",
      "metadata": {
        "id": "WzIRIt9d2huC"
      },
      "source": [
        "## Browsing GitHub Repositories from Colab\n",
        "\n",
        "Colab also supports special URLs that link directly to a GitHub browser for any user/organization, repository, or branch. For example:\n",
        "\n",
        "- http://colab.research.google.com/github will give you a general github browser, where you can search for any github organization or username.\n",
        "- http://colab.research.google.com/github/googlecolab/ will open the repository browser for the ``googlecolab`` organization. Replace ``googlecolab`` with any other github org or user to see their repositories.\n",
        "- http://colab.research.google.com/github/googlecolab/colabtools/ will let you browse the main branch of the ``colabtools`` repository within the ``googlecolab`` organization. Substitute any user/org and repository to see its contents.\n",
        "- http://colab.research.google.com/github/googlecolab/colabtools/blob/main will let you browse ``main`` branch of the ``colabtools`` repository within the ``googlecolab`` organization. (don't forget the ``blob`` here!) You can specify any valid branch for any valid repository."
      ]
    },
    {
      "cell_type": "markdown",
      "metadata": {
        "id": "Rmai0dD30XzL"
      },
      "source": [
        "## Loading Private Notebooks\n",
        "\n",
        "Loading a notebook from a private GitHub repository is possible, but requires an additional step to allow Colab to access your files.\n",
        "Do the following:\n",
        "\n",
        "1. Navigate to http://colab.research.google.com/github.\n",
        "2. Click the \"Include Private Repos\" checkbox.\n",
        "3. In the popup window, sign-in to your Github account and authorize Colab to read the private files.\n",
        "4. Your private repositories and notebooks will now be available via the github navigation pane."
      ]
    },
    {
      "cell_type": "markdown",
      "metadata": {
        "id": "8J3NBxtZpPcK"
      },
      "source": [
        "## Saving Notebooks To GitHub or Drive\n",
        "\n",
        "Any time you open a GitHub hosted notebook in Colab, it opens a new editable view of the notebook. You can run and modify the notebook without worrying about overwriting the source.\n",
        "\n",
        "If you would like to save your changes from within Colab, you can use the File menu to save the modified notebook either to Google Drive or back to GitHub. Choose **File→Save a copy in Drive** or **File→Save a copy to GitHub** and follow the resulting prompts. To save a Colab notebook to GitHub requires giving Colab permission to push the commit to your repository."
      ]
    },
    {
      "cell_type": "markdown",
      "metadata": {
        "id": "8QAWNjizy_3O"
      },
      "source": [
        "## Open In Colab Badge\n",
        "\n",
        "Anybody can open a copy of any github-hosted notebook within Colab. To make it easier to give people access to live views of GitHub-hosted notebooks,\n",
        "colab provides a [shields.io](http://shields.io/)-style badge, which appears as follows:\n",
        "\n",
        "[![Open In Colab](https://colab.research.google.com/assets/colab-badge.svg)](https://colab.research.google.com/github/googlecolab/colabtools/blob/main/notebooks/colab-github-demo.ipynb)\n",
        "\n",
        "The markdown for the above badge is the following:\n",
        "\n",
        "```markdown\n",
        "[![Open In Colab](https://colab.research.google.com/assets/colab-badge.svg)](https://colab.research.google.com/github/googlecolab/colabtools/blob/main/notebooks/colab-github-demo.ipynb)\n",
        "```\n",
        "\n",
        "The HTML equivalent is:\n",
        "\n",
        "```HTML\n",
        "<a href=\"https://colab.research.google.com/github/googlecolab/colabtools/blob/main/notebooks/colab-github-demo.ipynb\">\n",
        "  <img src=\"https://colab.research.google.com/assets/colab-badge.svg\" alt=\"Open In Colab\"/>\n",
        "</a>\n",
        "```\n",
        "\n",
        "Remember to replace the notebook URL in this template with the notebook you want to link to."
      ]
    },
    {
      "cell_type": "code",
      "execution_count": null,
      "metadata": {
        "colab": {
          "base_uri": "https://localhost:8080/"
        },
        "id": "3VQqVi-3ScBC",
        "outputId": "2366d6f1-0b5c-4b35-b785-e2fa8343b9de"
      },
      "outputs": [
        {
          "output_type": "stream",
          "name": "stdout",
          "text": [
            "/content\n",
            "Mounted at /content/drive\n"
          ]
        }
      ],
      "source": [
        "#!git clone https://github.com/rlagusdn04/XRPL\n",
        "\n",
        "import os\n",
        "os.chdir(\"/content\")\n",
        "!pwd\n",
        "\n",
        "from google.colab import drive\n",
        "drive.mount('/content/drive')\n",
        "\n"
      ]
    },
    {
      "cell_type": "code",
      "source": [
        "# nest_asyncio와 xrpl-py 설치\n",
        "!pip install nest_asyncio xrpl-py\n",
        "\n",
        "# Colab 환경의 asyncio event loop 문제 해결\n",
        "#AsyncIO: 비동기 프로그래밍을 위한 모듈, CPU작업과 IO작업을 병렬 처리\n",
        "import nest_asyncio\n",
        "nest_asyncio.apply() # 병렬 처리 시 중첩된 event loop 사용을 허용\n",
        "\n",
        "# 모듈 임포트\n",
        "from xrpl.clients import JsonRpcClient\n",
        "from xrpl.wallet import generate_faucet_wallet\n",
        "from xrpl.account import get_balance\n",
        "from xrpl.models.requests import ServerInfo\n",
        "from xrpl.models.transactions import NFTokenMint\n",
        "from xrpl.transaction import submit_and_wait\n",
        "import xrpl.utils\n",
        "\n",
        "# XRPL 테스트넷에 연결\n",
        "testnet_url = \"https://s.altnet.rippletest.net:51234/\"\n",
        "client = JsonRpcClient(testnet_url)\n",
        "\n",
        "# (옵션) 서버 정보 확인\n",
        "server_info = client.request(ServerInfo())\n",
        "print(\"서버 정보:\", server_info.result)\n",
        "\n",
        "# 새로운 테스트넷 지갑 생성 (Faucet 이용)\n",
        "wallet = generate_faucet_wallet(client)\n",
        "print(f\"지갑 주소: {wallet.classic_address}\")\n",
        "print(f\"비밀키: {wallet.seed}\")\n",
        "\n",
        "balance = get_balance(wallet.classic_address, client)\n",
        "print(f\"잔액: {balance} XRP\")\n",
        "\n",
        "# XRPL를 이용한 NFT 민팅 (Tokenization)\n",
        "# NFT 민팅을 위해 NFTokenMint 트랜잭션 생성\n",
        "nft_mint_tx = NFTokenMint(\n",
        "    account=wallet.classic_address,\n",
        "    nftoken_taxon=0,  # NFT 분류 (0: 기본 분류)\n",
        "    uri=xrpl.utils.str_to_hex(\"https://example.com/nft/metadata.json\"),\n",
        "    flags=8  # 8: Transferable(양도가능) NFT 설정\n",
        ")\n",
        "\n",
        "print(\"NFT 민팅 중...\")\n",
        "nft_response = submit_and_wait(nft_mint_tx, client, wallet)\n",
        "print(\"NFT 민팅 결과:\", nft_response.result)\n",
        "\n",
        "# The Root Network와의 연동 (가상 API 호출 예시)\n",
        "def register_nft_with_root_network(nft_details):\n",
        "    # 실제 API 요청은 The Root Network의 문서를 참조하여 구현해야 함\n",
        "    print(\"NFT가 The Root Network에 등록되었습니다:\", nft_details)\n",
        "\n",
        "# NFT 민팅 결과에 트랜잭션 해시가 있다면, The Root Network에 NFT를 등록한다고 가정\n",
        "if \"hash\" in nft_response.result:\n",
        "    nft_hash = nft_response.result[\"hash\"]\n",
        "    nft_details = {\n",
        "        \"nft_hash\": nft_hash,\n",
        "        \"metadata_uri\": \"https://example.com/nft/metadata.json\",\n",
        "        \"owner\": wallet.classic_address,\n",
        "    }\n",
        "    register_nft_with_root_network(nft_details)\n",
        "else:\n",
        "    print(\"NFT 등록 실패\")\n",
        "\n",
        "\n"
      ],
      "metadata": {
        "id": "NHFybTj2pDH4",
        "colab": {
          "base_uri": "https://localhost:8080/"
        },
        "outputId": "2c585dc3-b924-45e7-b2dc-14c9c756c357"
      },
      "execution_count": 11,
      "outputs": [
        {
          "output_type": "stream",
          "name": "stdout",
          "text": [
            "Requirement already satisfied: nest_asyncio in /usr/local/lib/python3.11/dist-packages (1.6.0)\n",
            "Requirement already satisfied: xrpl-py in /usr/local/lib/python3.11/dist-packages (4.1.0)\n",
            "Requirement already satisfied: Deprecated<2.0.0,>=1.2.13 in /usr/local/lib/python3.11/dist-packages (from xrpl-py) (1.2.18)\n",
            "Requirement already satisfied: ECPy<2.0.0,>=1.2.5 in /usr/local/lib/python3.11/dist-packages (from xrpl-py) (1.2.5)\n",
            "Requirement already satisfied: base58<3.0.0,>=2.1.0 in /usr/local/lib/python3.11/dist-packages (from xrpl-py) (2.1.1)\n",
            "Requirement already satisfied: httpx<0.29.0,>=0.18.1 in /usr/local/lib/python3.11/dist-packages (from xrpl-py) (0.28.1)\n",
            "Requirement already satisfied: pycryptodome<4.0.0,>=3.16.0 in /usr/local/lib/python3.11/dist-packages (from xrpl-py) (3.21.0)\n",
            "Requirement already satisfied: types-Deprecated<2.0.0,>=1.2.9 in /usr/local/lib/python3.11/dist-packages (from xrpl-py) (1.2.15.20250304)\n",
            "Requirement already satisfied: typing-extensions<5.0.0,>=4.2.0 in /usr/local/lib/python3.11/dist-packages (from xrpl-py) (4.12.2)\n",
            "Requirement already satisfied: websockets>=11 in /usr/local/lib/python3.11/dist-packages (from xrpl-py) (14.2)\n",
            "Requirement already satisfied: wrapt<2,>=1.10 in /usr/local/lib/python3.11/dist-packages (from Deprecated<2.0.0,>=1.2.13->xrpl-py) (1.17.2)\n",
            "Requirement already satisfied: anyio in /usr/local/lib/python3.11/dist-packages (from httpx<0.29.0,>=0.18.1->xrpl-py) (3.7.1)\n",
            "Requirement already satisfied: certifi in /usr/local/lib/python3.11/dist-packages (from httpx<0.29.0,>=0.18.1->xrpl-py) (2025.1.31)\n",
            "Requirement already satisfied: httpcore==1.* in /usr/local/lib/python3.11/dist-packages (from httpx<0.29.0,>=0.18.1->xrpl-py) (1.0.7)\n",
            "Requirement already satisfied: idna in /usr/local/lib/python3.11/dist-packages (from httpx<0.29.0,>=0.18.1->xrpl-py) (3.10)\n",
            "Requirement already satisfied: h11<0.15,>=0.13 in /usr/local/lib/python3.11/dist-packages (from httpcore==1.*->httpx<0.29.0,>=0.18.1->xrpl-py) (0.14.0)\n",
            "Requirement already satisfied: sniffio>=1.1 in /usr/local/lib/python3.11/dist-packages (from anyio->httpx<0.29.0,>=0.18.1->xrpl-py) (1.3.1)\n",
            "서버 정보: {'info': {'build_version': '2.4.0', 'complete_ledgers': '6-5531053', 'hostid': 'TUN', 'initial_sync_duration_us': '33813009', 'io_latency_ms': 1, 'jq_trans_overflow': '0', 'last_close': {'converge_time_s': 2, 'proposers': 6}, 'load_factor': 1, 'network_id': 1, 'peer_disconnects': '39332', 'peer_disconnects_resources': '526', 'peers': 108, 'ports': [{'port': '2459', 'protocol': ['peer']}, {'port': '51233', 'protocol': ['ws2', 'wss2']}, {'port': '50051', 'protocol': ['grpc']}], 'pubkey_node': 'n9KEk3TLMuoiTTLgrWWmfYm99hHFBZTXWzoyrHr3FbJWmRCXm96v', 'server_state': 'full', 'server_state_duration_us': '375080829277', 'state_accounting': {'connected': {'duration_us': '12003799', 'transitions': '1'}, 'disconnected': {'duration_us': '16803301', 'transitions': '1'}, 'full': {'duration_us': '375080829277', 'transitions': '1'}, 'syncing': {'duration_us': '5005871', 'transitions': '1'}, 'tracking': {'duration_us': '36', 'transitions': '1'}}, 'time': '2025-Mar-11 07:51:34.872562 UTC', 'uptime': 375114, 'validated_ledger': {'age': 0, 'base_fee_xrp': 1e-05, 'hash': 'C99C27E01D1E7495DE9FC4222111FC3CA80360EC3A470A7DAAAC0CA666C559A7', 'reserve_base_xrp': 1, 'reserve_inc_xrp': 0.2, 'seq': 5531053}, 'validation_quorum': 5}}\n",
            "지갑 주소: rL3EpeZwjUZhPWfFptFTCqVH8k1a3idphH\n",
            "비밀키: sEdSKNhcAcHTi9GsYmay3e8ee99L3iy\n",
            "잔액: 100000000 XRP\n",
            "NFT 민팅 중...\n",
            "NFT 민팅 결과: {'close_time_iso': '2025-03-11T07:51:50Z', 'ctid': 'C05465B200000001', 'hash': '3531E8DECEDABACAB37CB6139671CB1E058DF4095A71A23644FDC523AE9425A3', 'ledger_hash': 'AA4B9806D2622CDDFA0519CF6A8533609AB1DCA021FE0C45DBD99BFCA5CD9095', 'ledger_index': 5531058, 'meta': {'AffectedNodes': [{'ModifiedNode': {'FinalFields': {'Account': 'rL3EpeZwjUZhPWfFptFTCqVH8k1a3idphH', 'Balance': '99999990', 'FirstNFTokenSequence': 5531055, 'Flags': 0, 'MintedNFTokens': 1, 'OwnerCount': 1, 'Sequence': 5531056}, 'LedgerEntryType': 'AccountRoot', 'LedgerIndex': 'A22E07D59AD3FA18006FFB8ED7A5579A55BEC2D83B0D1799AAD8782A4CCB6FAF', 'PreviousFields': {'Balance': '100000000', 'OwnerCount': 0, 'Sequence': 5531055}, 'PreviousTxnID': '9AEB20849E5DB02E4562EC0EDCC9D5DAC5792DDAC3CEC40209F72D02F5FD4222', 'PreviousTxnLgrSeq': 5531055}}, {'CreatedNode': {'LedgerEntryType': 'NFTokenPage', 'LedgerIndex': 'D1C9030EF75220734F26E2FB766CA27FE197DB02FFFFFFFFFFFFFFFFFFFFFFFF', 'NewFields': {'NFTokens': [{'NFToken': {'NFTokenID': '00080000D1C9030EF75220734F26E2FB766CA27FE197DB02E6E34E4A005465AF', 'URI': '68747470733A2F2F6578616D706C652E636F6D2F6E66742F6D657461646174612E6A736F6E'}}]}}}], 'TransactionIndex': 0, 'TransactionResult': 'tesSUCCESS', 'nftoken_id': '00080000D1C9030EF75220734F26E2FB766CA27FE197DB02E6E34E4A005465AF'}, 'tx_json': {'Account': 'rL3EpeZwjUZhPWfFptFTCqVH8k1a3idphH', 'Fee': '10', 'Flags': 8, 'LastLedgerSequence': 5531076, 'NFTokenTaxon': 0, 'Sequence': 5531055, 'SigningPubKey': 'EDFDDFBC11F644539AA2118311038815B16E6AF7D63296A8DFD8D93201D2290E02', 'TransactionType': 'NFTokenMint', 'TxnSignature': '0AC7B0F69AD68C81181A54C2A5BD42399A6637191239A7A68352B30BE02858F80C4958E2A31219FD9C06CE1CFC67CB2E17AB44B801446C792197CEE36330710E', 'URI': '68747470733A2F2F6578616D706C652E636F6D2F6E66742F6D657461646174612E6A736F6E', 'date': 794994710, 'ledger_index': 5531058}, 'validated': True}\n",
            "NFT가 The Root Network에 등록되었습니다: {'nft_hash': '3531E8DECEDABACAB37CB6139671CB1E058DF4095A71A23644FDC523AE9425A3', 'metadata_uri': 'https://example.com/nft/metadata.json', 'owner': 'rL3EpeZwjUZhPWfFptFTCqVH8k1a3idphH'}\n"
          ]
        }
      ]
    },
    {
      "cell_type": "code",
      "source": [],
      "metadata": {
        "id": "OML2WwCvoilf"
      },
      "execution_count": null,
      "outputs": []
    }
  ],
  "metadata": {
    "colab": {
      "name": "colab-github-demo.ipynb",
      "provenance": []
    },
    "kernelspec": {
      "display_name": "Python 3",
      "name": "python3"
    }
  },
  "nbformat": 4,
  "nbformat_minor": 0
}