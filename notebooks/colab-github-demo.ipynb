{
  "cells": [
    {
      "cell_type": "markdown",
      "metadata": {
        "id": "view-in-github",
        "colab_type": "text"
      },
      "source": [
        "<a href=\"https://colab.research.google.com/github/rlagusdn04/XRPL/blob/main/notebooks/colab-github-demo.ipynb\" target=\"_parent\"><img src=\"https://colab.research.google.com/assets/colab-badge.svg\" alt=\"Open In Colab\"/></a>"
      ]
    },
    {
      "cell_type": "markdown",
      "metadata": {
        "id": "-pVhOfzLx9us"
      },
      "source": [
        "# Using Google Colab with GitHub\n",
        "\n"
      ]
    },
    {
      "cell_type": "markdown",
      "metadata": {
        "id": "wKJ4bd5rt1wy"
      },
      "source": [
        "\n",
        "[Google Colaboratory](http://colab.research.google.com) is designed to integrate cleanly with GitHub, allowing both loading notebooks from github and saving notebooks to github."
      ]
    },
    {
      "cell_type": "markdown",
      "metadata": {
        "id": "K-NVg7RjyeTk"
      },
      "source": [
        "## Loading Public Notebooks Directly from GitHub\n",
        "\n",
        "Colab can load public github notebooks directly, with no required authorization step.\n",
        "\n",
        "For example, consider the notebook at this address: https://github.com/googlecolab/colabtools/blob/main/notebooks/colab-github-demo.ipynb.\n",
        "\n",
        "The direct colab link to this notebook is: https://colab.research.google.com/github/googlecolab/colabtools/blob/main/notebooks/colab-github-demo.ipynb.\n",
        "\n",
        "To generate such links in one click, you can use the [Open in Colab](https://chrome.google.com/webstore/detail/open-in-colab/iogfkhleblhcpcekbiedikdehleodpjo) Chrome extension."
      ]
    },
    {
      "cell_type": "markdown",
      "metadata": {
        "id": "WzIRIt9d2huC"
      },
      "source": [
        "## Browsing GitHub Repositories from Colab\n",
        "\n",
        "Colab also supports special URLs that link directly to a GitHub browser for any user/organization, repository, or branch. For example:\n",
        "\n",
        "- http://colab.research.google.com/github will give you a general github browser, where you can search for any github organization or username.\n",
        "- http://colab.research.google.com/github/googlecolab/ will open the repository browser for the ``googlecolab`` organization. Replace ``googlecolab`` with any other github org or user to see their repositories.\n",
        "- http://colab.research.google.com/github/googlecolab/colabtools/ will let you browse the main branch of the ``colabtools`` repository within the ``googlecolab`` organization. Substitute any user/org and repository to see its contents.\n",
        "- http://colab.research.google.com/github/googlecolab/colabtools/blob/main will let you browse ``main`` branch of the ``colabtools`` repository within the ``googlecolab`` organization. (don't forget the ``blob`` here!) You can specify any valid branch for any valid repository."
      ]
    },
    {
      "cell_type": "markdown",
      "metadata": {
        "id": "Rmai0dD30XzL"
      },
      "source": [
        "## Loading Private Notebooks\n",
        "\n",
        "Loading a notebook from a private GitHub repository is possible, but requires an additional step to allow Colab to access your files.\n",
        "Do the following:\n",
        "\n",
        "1. Navigate to http://colab.research.google.com/github.\n",
        "2. Click the \"Include Private Repos\" checkbox.\n",
        "3. In the popup window, sign-in to your Github account and authorize Colab to read the private files.\n",
        "4. Your private repositories and notebooks will now be available via the github navigation pane."
      ]
    },
    {
      "cell_type": "markdown",
      "metadata": {
        "id": "8J3NBxtZpPcK"
      },
      "source": [
        "## Saving Notebooks To GitHub or Drive\n",
        "\n",
        "Any time you open a GitHub hosted notebook in Colab, it opens a new editable view of the notebook. You can run and modify the notebook without worrying about overwriting the source.\n",
        "\n",
        "If you would like to save your changes from within Colab, you can use the File menu to save the modified notebook either to Google Drive or back to GitHub. Choose **File→Save a copy in Drive** or **File→Save a copy to GitHub** and follow the resulting prompts. To save a Colab notebook to GitHub requires giving Colab permission to push the commit to your repository."
      ]
    },
    {
      "cell_type": "markdown",
      "metadata": {
        "id": "8QAWNjizy_3O"
      },
      "source": [
        "## Open In Colab Badge\n",
        "\n",
        "Anybody can open a copy of any github-hosted notebook within Colab. To make it easier to give people access to live views of GitHub-hosted notebooks,\n",
        "colab provides a [shields.io](http://shields.io/)-style badge, which appears as follows:\n",
        "\n",
        "[![Open In Colab](https://colab.research.google.com/assets/colab-badge.svg)](https://colab.research.google.com/github/googlecolab/colabtools/blob/main/notebooks/colab-github-demo.ipynb)\n",
        "\n",
        "The markdown for the above badge is the following:\n",
        "\n",
        "```markdown\n",
        "[![Open In Colab](https://colab.research.google.com/assets/colab-badge.svg)](https://colab.research.google.com/github/googlecolab/colabtools/blob/main/notebooks/colab-github-demo.ipynb)\n",
        "```\n",
        "\n",
        "The HTML equivalent is:\n",
        "\n",
        "```HTML\n",
        "<a href=\"https://colab.research.google.com/github/googlecolab/colabtools/blob/main/notebooks/colab-github-demo.ipynb\">\n",
        "  <img src=\"https://colab.research.google.com/assets/colab-badge.svg\" alt=\"Open In Colab\"/>\n",
        "</a>\n",
        "```\n",
        "\n",
        "Remember to replace the notebook URL in this template with the notebook you want to link to."
      ]
    },
    {
      "cell_type": "code",
      "execution_count": null,
      "metadata": {
        "colab": {
          "base_uri": "https://localhost:8080/"
        },
        "id": "3VQqVi-3ScBC",
        "outputId": "2366d6f1-0b5c-4b35-b785-e2fa8343b9de"
      },
      "outputs": [
        {
          "output_type": "stream",
          "name": "stdout",
          "text": [
            "/content\n",
            "Mounted at /content/drive\n"
          ]
        }
      ],
      "source": [
        "#!git clone https://github.com/rlagusdn04/XRPL\n",
        "\n",
        "import os\n",
        "os.chdir(\"/content\")  # 저장소 경로로 이동\n",
        "!pwd\n",
        "\n",
        "from google.colab import drive\n",
        "drive.mount('/content/drive')\n",
        "\n"
      ]
    },
    {
      "cell_type": "code",
      "source": [
        "# nest_asyncio와 xrpl-py 설치\n",
        "!pip install nest_asyncio xrpl-py\n",
        "\n",
        "# Colab 환경의 asyncio event loop 문제 해결\n",
        "#AsyncIO: 비동기 프로그래밍을 위한 모듈, CPU작업과 IO작업을 병렬 처리\n",
        "import nest_asyncio\n",
        "nest_asyncio.apply() # 병렬 처리 시 중첩된 event loop 사용을 허용\n",
        "\n",
        "# 필요한 모듈 임포트\n",
        "from xrpl.clients import JsonRpcClient\n",
        "from xrpl.wallet import generate_faucet_wallet\n",
        "from xrpl.account import get_balance\n",
        "from xrpl.models.requests import ServerInfo  # 요청 객체 임포트\n",
        "\n",
        "# XRPL 테스트넷 엔드포인트 설정 및 연결 확인\n",
        "testnet_url = \"https://s.altnet.rippletest.net:51234/\"\n",
        "client = JsonRpcClient(testnet_url)\n",
        "\n",
        "server_info = client.request(ServerInfo())  # dict 대신 ServerInfo() 객체 사용\n",
        "print(\"서버 정보:\", server_info.result)\n",
        "\n",
        "# 새로운 테스트넷 지갑 생성 (Faucet 이용)\n",
        "wallet = generate_faucet_wallet(client)\n",
        "print(f\"지갑 주소: {wallet.classic_address}\")\n",
        "print(f\"비밀키: {wallet.seed}\")\n",
        "\n",
        "# 생성된 지갑의 XRP 잔액 조회\n",
        "balance = get_balance(wallet.classic_address, client)\n",
        "print(f\"잔액: {balance} XRP\")\n"
      ],
      "metadata": {
        "id": "NHFybTj2pDH4",
        "colab": {
          "base_uri": "https://localhost:8080/"
        },
        "outputId": "ba80346d-610e-4ee5-b0ff-a20545856618"
      },
      "execution_count": null,
      "outputs": [
        {
          "output_type": "stream",
          "name": "stdout",
          "text": [
            "Requirement already satisfied: nest_asyncio in /usr/local/lib/python3.11/dist-packages (1.6.0)\n",
            "Requirement already satisfied: xrpl-py in /usr/local/lib/python3.11/dist-packages (4.1.0)\n",
            "Requirement already satisfied: Deprecated<2.0.0,>=1.2.13 in /usr/local/lib/python3.11/dist-packages (from xrpl-py) (1.2.18)\n",
            "Requirement already satisfied: ECPy<2.0.0,>=1.2.5 in /usr/local/lib/python3.11/dist-packages (from xrpl-py) (1.2.5)\n",
            "Requirement already satisfied: base58<3.0.0,>=2.1.0 in /usr/local/lib/python3.11/dist-packages (from xrpl-py) (2.1.1)\n",
            "Requirement already satisfied: httpx<0.29.0,>=0.18.1 in /usr/local/lib/python3.11/dist-packages (from xrpl-py) (0.28.1)\n",
            "Requirement already satisfied: pycryptodome<4.0.0,>=3.16.0 in /usr/local/lib/python3.11/dist-packages (from xrpl-py) (3.21.0)\n",
            "Requirement already satisfied: types-Deprecated<2.0.0,>=1.2.9 in /usr/local/lib/python3.11/dist-packages (from xrpl-py) (1.2.15.20250304)\n",
            "Requirement already satisfied: typing-extensions<5.0.0,>=4.2.0 in /usr/local/lib/python3.11/dist-packages (from xrpl-py) (4.12.2)\n",
            "Requirement already satisfied: websockets>=11 in /usr/local/lib/python3.11/dist-packages (from xrpl-py) (14.2)\n",
            "Requirement already satisfied: wrapt<2,>=1.10 in /usr/local/lib/python3.11/dist-packages (from Deprecated<2.0.0,>=1.2.13->xrpl-py) (1.17.2)\n",
            "Requirement already satisfied: anyio in /usr/local/lib/python3.11/dist-packages (from httpx<0.29.0,>=0.18.1->xrpl-py) (3.7.1)\n",
            "Requirement already satisfied: certifi in /usr/local/lib/python3.11/dist-packages (from httpx<0.29.0,>=0.18.1->xrpl-py) (2025.1.31)\n",
            "Requirement already satisfied: httpcore==1.* in /usr/local/lib/python3.11/dist-packages (from httpx<0.29.0,>=0.18.1->xrpl-py) (1.0.7)\n",
            "Requirement already satisfied: idna in /usr/local/lib/python3.11/dist-packages (from httpx<0.29.0,>=0.18.1->xrpl-py) (3.10)\n",
            "Requirement already satisfied: h11<0.15,>=0.13 in /usr/local/lib/python3.11/dist-packages (from httpcore==1.*->httpx<0.29.0,>=0.18.1->xrpl-py) (0.14.0)\n",
            "Requirement already satisfied: sniffio>=1.1 in /usr/local/lib/python3.11/dist-packages (from anyio->httpx<0.29.0,>=0.18.1->xrpl-py) (1.3.1)\n",
            "서버 정보: {'info': {'build_version': '2.4.0', 'complete_ledgers': '6-5528986', 'hostid': 'TUN', 'initial_sync_duration_us': '33813009', 'io_latency_ms': 1, 'jq_trans_overflow': '0', 'last_close': {'converge_time_s': 2, 'proposers': 6}, 'load_factor': 1, 'network_id': 1, 'peer_disconnects': '38744', 'peer_disconnects_resources': '524', 'peers': 106, 'ports': [{'port': '2459', 'protocol': ['peer']}, {'port': '51233', 'protocol': ['ws2', 'wss2']}, {'port': '50051', 'protocol': ['grpc']}], 'pubkey_node': 'n9KEk3TLMuoiTTLgrWWmfYm99hHFBZTXWzoyrHr3FbJWmRCXm96v', 'server_state': 'full', 'server_state_duration_us': '368754157908', 'state_accounting': {'connected': {'duration_us': '12003799', 'transitions': '1'}, 'disconnected': {'duration_us': '16803301', 'transitions': '1'}, 'full': {'duration_us': '368754157908', 'transitions': '1'}, 'syncing': {'duration_us': '5005871', 'transitions': '1'}, 'tracking': {'duration_us': '36', 'transitions': '1'}}, 'time': '2025-Mar-11 06:06:08.201192 UTC', 'uptime': 368787, 'validated_ledger': {'age': 4, 'base_fee_xrp': 1e-05, 'hash': '00DDCF2898B6C17346449563F1F5BADDBDF3BDC51DF89B6F2E9718544796875F', 'reserve_base_xrp': 1, 'reserve_inc_xrp': 0.2, 'seq': 5528986}, 'validation_quorum': 5}}\n",
            "지갑 주소: rNMpd4xiDH7PV4ygRa9nYEo6MD8MbbCsfE\n",
            "비밀키: sEdVDLsfx8NDWzBdTRGp9WQe8wbSUE8\n",
            "잔액: 100000000 XRP\n"
          ]
        }
      ]
    },
    {
      "cell_type": "code",
      "source": [],
      "metadata": {
        "id": "OML2WwCvoilf"
      },
      "execution_count": null,
      "outputs": []
    }
  ],
  "metadata": {
    "colab": {
      "name": "colab-github-demo.ipynb",
      "provenance": [],
      "include_colab_link": true
    },
    "kernelspec": {
      "display_name": "Python 3",
      "name": "python3"
    }
  },
  "nbformat": 4,
  "nbformat_minor": 0
}